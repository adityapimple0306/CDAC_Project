{
 "cells": [
  {
   "cell_type": "code",
   "execution_count": 58,
   "id": "563f5365-7e13-4177-9f35-cd3c87e1809d",
   "metadata": {},
   "outputs": [],
   "source": [
    "import pandas as pd\n",
    "import numpy as np"
   ]
  },
  {
   "cell_type": "code",
   "execution_count": 59,
   "id": "d4ffc416-76ad-4f18-99cb-29909f515810",
   "metadata": {},
   "outputs": [],
   "source": [
    "df = pd.read_csv(\"project_data.csv\")"
   ]
  },
  {
   "cell_type": "code",
   "execution_count": 60,
   "id": "a972168a-cdf2-4ec6-8c39-53a9d0c04fdf",
   "metadata": {},
   "outputs": [
    {
     "data": {
      "text/html": [
       "<div>\n",
       "<style scoped>\n",
       "    .dataframe tbody tr th:only-of-type {\n",
       "        vertical-align: middle;\n",
       "    }\n",
       "\n",
       "    .dataframe tbody tr th {\n",
       "        vertical-align: top;\n",
       "    }\n",
       "\n",
       "    .dataframe thead th {\n",
       "        text-align: right;\n",
       "    }\n",
       "</style>\n",
       "<table border=\"1\" class=\"dataframe\">\n",
       "  <thead>\n",
       "    <tr style=\"text-align: right;\">\n",
       "      <th></th>\n",
       "      <th>Experience</th>\n",
       "      <th>UG</th>\n",
       "      <th>Location</th>\n",
       "      <th>PG</th>\n",
       "      <th>Salary</th>\n",
       "      <th>Department</th>\n",
       "      <th>Doctorate:</th>\n",
       "      <th>Skills</th>\n",
       "      <th>Role Category</th>\n",
       "    </tr>\n",
       "  </thead>\n",
       "  <tbody>\n",
       "    <tr>\n",
       "      <th>0</th>\n",
       "      <td>0 - 1 years</td>\n",
       "      <td>Graduation Not Required</td>\n",
       "      <td>Hiring office located in Pune</td>\n",
       "      <td>NaN</td>\n",
       "      <td>2.25-2.75 Lacs P.A.</td>\n",
       "      <td>BFSI, Investments &amp; Trading</td>\n",
       "      <td>NaN</td>\n",
       "      <td>Field Collections, Legal Documentation, Field ...</td>\n",
       "      <td>Lending</td>\n",
       "    </tr>\n",
       "    <tr>\n",
       "      <th>1</th>\n",
       "      <td>0 - 1 years</td>\n",
       "      <td>Any Graduate</td>\n",
       "      <td>Bengaluru</td>\n",
       "      <td>Any Postgraduate</td>\n",
       "      <td>Not Disclosed</td>\n",
       "      <td>BFSI, Investments &amp; Trading</td>\n",
       "      <td>NaN</td>\n",
       "      <td>standard operating procedures, anti money laun...</td>\n",
       "      <td>Banking Operations</td>\n",
       "    </tr>\n",
       "    <tr>\n",
       "      <th>2</th>\n",
       "      <td>0 - 1 years</td>\n",
       "      <td>Any Graduate</td>\n",
       "      <td>Bengaluru</td>\n",
       "      <td>Any Postgraduate</td>\n",
       "      <td>Not Disclosed</td>\n",
       "      <td>BFSI, Investments &amp; Trading</td>\n",
       "      <td>NaN</td>\n",
       "      <td>aml, anti money laundering, client onboarding,...</td>\n",
       "      <td>Lending</td>\n",
       "    </tr>\n",
       "    <tr>\n",
       "      <th>3</th>\n",
       "      <td>1 - 4 years</td>\n",
       "      <td>Any Graduate</td>\n",
       "      <td>Hyderabad</td>\n",
       "      <td>Any Postgraduate</td>\n",
       "      <td>Not Disclosed</td>\n",
       "      <td>BFSI, Investments &amp; Trading</td>\n",
       "      <td>NaN</td>\n",
       "      <td>Data analysis, Change management, Corporate ac...</td>\n",
       "      <td>Banking Operations</td>\n",
       "    </tr>\n",
       "    <tr>\n",
       "      <th>4</th>\n",
       "      <td>0 - 4 years</td>\n",
       "      <td>Any Graduate</td>\n",
       "      <td>Kolkata, Mumbai, Hyderabad, Bengaluru</td>\n",
       "      <td>Any Postgraduate</td>\n",
       "      <td>Not Disclosed</td>\n",
       "      <td>BFSI, Investments &amp; Trading</td>\n",
       "      <td>NaN</td>\n",
       "      <td>Retail, Data analysis, Project management, Pro...</td>\n",
       "      <td>Lending</td>\n",
       "    </tr>\n",
       "  </tbody>\n",
       "</table>\n",
       "</div>"
      ],
      "text/plain": [
       "    Experience                       UG  \\\n",
       "0  0 - 1 years  Graduation Not Required   \n",
       "1  0 - 1 years             Any Graduate   \n",
       "2  0 - 1 years             Any Graduate   \n",
       "3  1 - 4 years             Any Graduate   \n",
       "4  0 - 4 years             Any Graduate   \n",
       "\n",
       "                                Location                PG  \\\n",
       "0          Hiring office located in Pune               NaN   \n",
       "1                              Bengaluru  Any Postgraduate   \n",
       "2                              Bengaluru  Any Postgraduate   \n",
       "3                              Hyderabad  Any Postgraduate   \n",
       "4  Kolkata, Mumbai, Hyderabad, Bengaluru  Any Postgraduate   \n",
       "\n",
       "                Salary                   Department Doctorate:  \\\n",
       "0  2.25-2.75 Lacs P.A.  BFSI, Investments & Trading        NaN   \n",
       "1        Not Disclosed  BFSI, Investments & Trading        NaN   \n",
       "2        Not Disclosed  BFSI, Investments & Trading        NaN   \n",
       "3        Not Disclosed  BFSI, Investments & Trading        NaN   \n",
       "4        Not Disclosed  BFSI, Investments & Trading        NaN   \n",
       "\n",
       "                                              Skills       Role Category  \n",
       "0  Field Collections, Legal Documentation, Field ...             Lending  \n",
       "1  standard operating procedures, anti money laun...  Banking Operations  \n",
       "2  aml, anti money laundering, client onboarding,...             Lending  \n",
       "3  Data analysis, Change management, Corporate ac...  Banking Operations  \n",
       "4  Retail, Data analysis, Project management, Pro...             Lending  "
      ]
     },
     "execution_count": 60,
     "metadata": {},
     "output_type": "execute_result"
    }
   ],
   "source": [
    "df.head()"
   ]
  },
  {
   "cell_type": "code",
   "execution_count": 61,
   "id": "36a5309a-1414-4c37-8e3e-f77f758b65be",
   "metadata": {},
   "outputs": [
    {
     "name": "stdout",
     "output_type": "stream",
     "text": [
      "<class 'pandas.core.frame.DataFrame'>\n",
      "RangeIndex: 56685 entries, 0 to 56684\n",
      "Data columns (total 9 columns):\n",
      " #   Column         Non-Null Count  Dtype \n",
      "---  ------         --------------  ----- \n",
      " 0   Experience     56685 non-null  object\n",
      " 1   UG             52703 non-null  object\n",
      " 2   Location       56685 non-null  object\n",
      " 3   PG             35645 non-null  object\n",
      " 4   Salary         56685 non-null  object\n",
      " 5   Department     54701 non-null  object\n",
      " 6   Doctorate:     1927 non-null   object\n",
      " 7   Skills         56685 non-null  object\n",
      " 8   Role Category  54687 non-null  object\n",
      "dtypes: object(9)\n",
      "memory usage: 3.9+ MB\n"
     ]
    }
   ],
   "source": [
    "df.info()"
   ]
  },
  {
   "cell_type": "code",
   "execution_count": 62,
   "id": "ee3d1e65-a113-4ffc-b866-a3ebd5e7cc0b",
   "metadata": {},
   "outputs": [],
   "source": [
    "pd.set_option('display.max_rows', None)"
   ]
  },
  {
   "cell_type": "code",
   "execution_count": 63,
   "id": "ed0e5b54-d446-4012-b5ee-473734816064",
   "metadata": {},
   "outputs": [
    {
     "data": {
      "text/plain": [
       "1984"
      ]
     },
     "execution_count": 63,
     "metadata": {},
     "output_type": "execute_result"
    }
   ],
   "source": [
    "df['Department'].isna().sum()"
   ]
  },
  {
   "cell_type": "code",
   "execution_count": 64,
   "id": "5c6c440a-d4be-43b3-a43f-b8f212f4bdd6",
   "metadata": {
    "scrolled": true
   },
   "outputs": [
    {
     "data": {
      "text/plain": [
       "Department\n",
       "Engineering - Software & QA                16449\n",
       "Sales & Business Development                8101\n",
       "Customer Success, Service & Operations      4805\n",
       "Finance & Accounting                        4189\n",
       "BFSI, Investments & Trading                 2622\n",
       "Human Resources                             2582\n",
       "Data Science & Analytics                    2495\n",
       "Healthcare & Life Sciences                  2056\n",
       "Marketing & Communication                   1951\n",
       "Production, Manufacturing & Engineering     1887\n",
       "Consulting                                  1548\n",
       "Project & Program Management                1070\n",
       "Research & Development                       847\n",
       "Administration & Facilities                  621\n",
       "Food, Beverage & Hospitality                 586\n",
       "Legal & Regulatory                           426\n",
       "Content, Editorial & Journalism              381\n",
       "Environment Health & Safety                  364\n",
       "Product Management                           351\n",
       "Sports, Fitness & Personal Care              287\n",
       "Merchandising, Retail & eCommerce            271\n",
       "Risk Management & Compliance                 228\n",
       "Strategic & Top Management                   228\n",
       "Media Production & Entertainment             132\n",
       "Security Services                             74\n",
       "Aviation & Aerospace                          71\n",
       "CSR & Social Service                          33\n",
       "Energy & Mining                               24\n",
       "Shipping & Maritime                           22\n",
       "Name: count, dtype: int64"
      ]
     },
     "execution_count": 64,
     "metadata": {},
     "output_type": "execute_result"
    }
   ],
   "source": [
    "df['Department'].value_counts()"
   ]
  },
  {
   "cell_type": "code",
   "execution_count": 65,
   "id": "18c2c9f0-d623-4cda-9ef5-a5d4670399aa",
   "metadata": {},
   "outputs": [
    {
     "data": {
      "text/plain": [
       "29"
      ]
     },
     "execution_count": 65,
     "metadata": {},
     "output_type": "execute_result"
    }
   ],
   "source": [
    "df['Department'].value_counts().count()"
   ]
  },
  {
   "cell_type": "code",
   "execution_count": 66,
   "id": "022be498-7953-4473-9a4a-1064e2bb27b2",
   "metadata": {
    "scrolled": true
   },
   "outputs": [],
   "source": [
    "# List of departments to be grouped under 'Others' due to low count (<400)\n",
    "rare_departments = [\n",
    "    \"Sports, Fitness & Personal Care\", \n",
    "    \"Merchandising, Retail & eCommerce\", \n",
    "    \"Risk Management & Compliance\", \n",
    "    \"Strategic & Top Management\", \n",
    "    \"Media Production & Entertainment\", \n",
    "    \"Security Services\", \n",
    "    \"Aviation & Aerospace\", \n",
    "    \"CSR & Social Service\", \n",
    "    \"Energy & Mining\", \n",
    "    \"Shipping & Maritime\",\n",
    "    \"Content, Editorial & Journalism\",\n",
    "    \"Environment Health & Safety\",\n",
    "    \"Product Management\"\n",
    "    \n",
    "]\n",
    "\n",
    "# Replace these rare departments with 'Others'\n",
    "df['Department'] = df['Department'].replace(rare_departments, 'Others')"
   ]
  },
  {
   "cell_type": "code",
   "execution_count": 67,
   "id": "56e1f04b-3c44-47f8-80bc-319a573d74b2",
   "metadata": {
    "scrolled": true
   },
   "outputs": [
    {
     "data": {
      "text/plain": [
       "Department\n",
       "Engineering - Software & QA                16449\n",
       "Sales & Business Development                8101\n",
       "Customer Success, Service & Operations      4805\n",
       "Finance & Accounting                        4189\n",
       "BFSI, Investments & Trading                 2622\n",
       "Human Resources                             2582\n",
       "Data Science & Analytics                    2495\n",
       "Others                                      2466\n",
       "Healthcare & Life Sciences                  2056\n",
       "Marketing & Communication                   1951\n",
       "Production, Manufacturing & Engineering     1887\n",
       "Consulting                                  1548\n",
       "Project & Program Management                1070\n",
       "Research & Development                       847\n",
       "Administration & Facilities                  621\n",
       "Food, Beverage & Hospitality                 586\n",
       "Legal & Regulatory                           426\n",
       "Name: count, dtype: int64"
      ]
     },
     "execution_count": 67,
     "metadata": {},
     "output_type": "execute_result"
    }
   ],
   "source": [
    "df['Department'].value_counts()"
   ]
  },
  {
   "cell_type": "code",
   "execution_count": 68,
   "id": "0f14df84-dc9f-43e1-9827-246a4b99c5c2",
   "metadata": {
    "scrolled": true
   },
   "outputs": [
    {
     "data": {
      "text/plain": [
       "Role Category\n",
       "Software Development                                12080\n",
       "BD / Pre Sales                                       4344\n",
       "Enterprise & B2B Sales                               2785\n",
       "Accounting & Taxation                                1979\n",
       "Quality Assurance and Testing                        1969\n",
       "Voice / Blended                                      1844\n",
       "DBA / Data warehousing                               1747\n",
       "Business Intelligence & Analytics                    1307\n",
       "Finance                                              1197\n",
       "Recruitment & Talent Acquisition                     1183\n",
       "IT Consulting                                        1013\n",
       "Engineering                                          1000\n",
       "Sales Support & Operations                            970\n",
       "Customer Success, Service & Operations - Other        950\n",
       "Doctor                                                940\n",
       "Data Science & Machine Learning                       894\n",
       "Marketing                                             757\n",
       "Life Insurance                                        750\n",
       "Operations                                            736\n",
       "HR Operations                                         736\n",
       "Banking Operations                                    729\n",
       "DevOps                                                651\n",
       "Lending                                               629\n",
       "Digital Marketing                                     612\n",
       "Other Program / Project Management                    605\n",
       "Operations, Maintenance & Support                     588\n",
       "Customer Success                                      548\n",
       "General Insurance                                     513\n",
       "Administration                                        459\n",
       "Engineering & Manufacturing                           428\n",
       "Finance & Accounting - Other                          362\n",
       "Technology / IT                                       352\n",
       "Management Consulting                                 347\n",
       "Nursing                                               304\n",
       "Data Science & Analytics - Other                      294\n",
       "Audit & Control                                       293\n",
       "Treasury                                              289\n",
       "Health Informatics                                    279\n",
       "Human Resources - Other                               252\n",
       "Content Management (Print / Online / Electronic)      248\n",
       "Advertising & Creative                                230\n",
       "Healthcare & Life Sciences - Other                    229\n",
       "Employee Relations                                    223\n",
       "Product Management - Technology                       220\n",
       "Pharmaceutical & Biotechnology                        214\n",
       "Back Office                                           207\n",
       "Research & Development - Other                        203\n",
       "Operations Support                                    202\n",
       "Corporate Communication                               197\n",
       "Production & Manufacturing - Other                    190\n",
       "Other Consulting                                      188\n",
       "After Sales Service & Repair                          182\n",
       "Other Hospital Staff                                  179\n",
       "Legal Operations                                      165\n",
       "Facility Management                                   162\n",
       "Occupational Health & Safety                          154\n",
       "Environment Health and Safety - Other                 147\n",
       "Legal & Regulatory - Other                            140\n",
       "Front Office & Guest Services                         137\n",
       "Retail Store Operations                               133\n",
       "Kitchen / F&B Production                              131\n",
       "Product Management - Other                            131\n",
       "Service Delivery                                      131\n",
       "Health & Fitness                                      130\n",
       "F&B Service                                           126\n",
       "Risk Management & Compliance - Other                  126\n",
       "Imaging & Diagnostics                                 125\n",
       "Beauty & Personal Care                                121\n",
       "Corporate Affairs                                     118\n",
       "Compensation & Benefits                               117\n",
       "Top Management                                        112\n",
       "Management                                            109\n",
       "Construction / Manufacturing                          104\n",
       "Payroll & Transactions                                 93\n",
       "Marketing and Communication - Other                    88\n",
       "Content, Editorial & Journalism - Other                84\n",
       "Tourism Services                                       81\n",
       "Strategic Management                                   72\n",
       "Market Research & Insights                             66\n",
       "Food, Beverage & Hospitality - Other                   64\n",
       "Community Health & Safety                              63\n",
       "Editing                                                61\n",
       "HR Business Advisory                                   59\n",
       "Security Officer                                       57\n",
       "eCommerce Operations                                   56\n",
       "Merchandising & Planning                               49\n",
       "Strategic & Top Management - Other                     44\n",
       "Editing (Print / Online / Electronic)                  42\n",
       "Assessment / Advisory                                  38\n",
       "Flight & Airport Operations                            36\n",
       "Housekeeping & Laundry                                 31\n",
       "Security / Fraud                                       27\n",
       "Sports Science & Medicine                              21\n",
       "Category Management & Operations                       21\n",
       "CSR & Sustainability                                   20\n",
       "Media Production & Entertainment - Other               20\n",
       "Security Services - Other                              17\n",
       "Artists                                                16\n",
       "Events & Banquet                                       16\n",
       "Animation / Effects                                    16\n",
       "Aviation & Aerospace - Other                           15\n",
       "Aviation Engineering                                   15\n",
       "Social & Public Service                                13\n",
       "Operations / Strategy                                  13\n",
       "Merchandising, Retail & eCommerce - Other              12\n",
       "Recruitment Marketing & Branding                       12\n",
       "Mining                                                 12\n",
       "Sports Staff and Management                            10\n",
       "Shipping & Maritime - Other                             9\n",
       "Production                                              9\n",
       "Business                                                8\n",
       "Port & Maritime Operations                              7\n",
       "Journalism                                              7\n",
       "Direction                                               6\n",
       "Sports, Fitness & Personal Care - Other                 5\n",
       "Airline Services                                        5\n",
       "Power Supply and Distribution                           5\n",
       "Shipping Engineering & Technical                        4\n",
       "Sound / Light / Technical Support                       4\n",
       "Crime / Arbitration                                     3\n",
       "Upstream                                                3\n",
       "Shipping Deck                                           2\n",
       "Energy & Mining - Other                                 2\n",
       "Power Generation                                        2\n",
       "Name: count, dtype: int64"
      ]
     },
     "execution_count": 68,
     "metadata": {},
     "output_type": "execute_result"
    }
   ],
   "source": [
    "df['Role Category'].value_counts()"
   ]
  },
  {
   "cell_type": "code",
   "execution_count": 69,
   "id": "9685ca81-058a-409b-b986-7aada2f83b89",
   "metadata": {},
   "outputs": [
    {
     "data": {
      "text/plain": [
       "124"
      ]
     },
     "execution_count": 69,
     "metadata": {},
     "output_type": "execute_result"
    }
   ],
   "source": [
    "df['Role Category'].value_counts().count()"
   ]
  },
  {
   "cell_type": "code",
   "execution_count": 70,
   "id": "85343664-5b71-4838-b816-7af4ac9628da",
   "metadata": {
    "scrolled": true
   },
   "outputs": [],
   "source": [
    "df.loc[df['Department'] == 'Others', 'Role Category'] = 'Others'"
   ]
  },
  {
   "cell_type": "code",
   "execution_count": 71,
   "id": "aef2c206-6d82-478f-89a1-b2264d3b0edb",
   "metadata": {
    "scrolled": true
   },
   "outputs": [
    {
     "data": {
      "text/plain": [
       "74"
      ]
     },
     "execution_count": 71,
     "metadata": {},
     "output_type": "execute_result"
    }
   ],
   "source": [
    "df['Role Category'].value_counts().count()"
   ]
  },
  {
   "cell_type": "code",
   "execution_count": 51,
   "id": "c1a97acb-20a5-4488-ba1f-92d86fdfbcbf",
   "metadata": {},
   "outputs": [],
   "source": [
    "# df.loc[df['Role Category'].str.contains('other', case=False, na=False), 'Role Category'] = 'others'"
   ]
  },
  {
   "cell_type": "code",
   "execution_count": 52,
   "id": "0dc0cc5d-937e-4130-b6e6-45fe171a415a",
   "metadata": {},
   "outputs": [],
   "source": [
    "# df['Role Category'].value_counts().count()"
   ]
  },
  {
   "cell_type": "code",
   "execution_count": 72,
   "id": "51b7a588-ea65-4a7b-ab3d-2ff3f895b8f5",
   "metadata": {
    "scrolled": true
   },
   "outputs": [
    {
     "data": {
      "text/plain": [
       "75"
      ]
     },
     "execution_count": 72,
     "metadata": {},
     "output_type": "execute_result"
    }
   ],
   "source": [
    "df[['Department', 'Role Category']].value_counts().count()"
   ]
  },
  {
   "cell_type": "code",
   "execution_count": 73,
   "id": "517b934e-8ebf-4c0a-93dd-252cd1aa9791",
   "metadata": {
    "scrolled": true
   },
   "outputs": [
    {
     "data": {
      "text/plain": [
       "Department                               Role Category                                 \n",
       "Engineering - Software & QA              Software Development                              12080\n",
       "Sales & Business Development             BD / Pre Sales                                     4344\n",
       "                                         Enterprise & B2B Sales                             2785\n",
       "Others                                   Others                                             2466\n",
       "Finance & Accounting                     Accounting & Taxation                              1979\n",
       "Engineering - Software & QA              Quality Assurance and Testing                      1969\n",
       "Customer Success, Service & Operations   Voice / Blended                                    1844\n",
       "Engineering - Software & QA              DBA / Data warehousing                             1747\n",
       "Data Science & Analytics                 Business Intelligence & Analytics                  1307\n",
       "Human Resources                          Recruitment & Talent Acquisition                   1183\n",
       "Finance & Accounting                     Finance                                            1172\n",
       "Consulting                               IT Consulting                                      1013\n",
       "Production, Manufacturing & Engineering  Engineering                                        1000\n",
       "Sales & Business Development             Sales Support & Operations                          970\n",
       "Customer Success, Service & Operations   Customer Success, Service & Operations - Other      950\n",
       "Healthcare & Life Sciences               Doctor                                              940\n",
       "Data Science & Analytics                 Data Science & Machine Learning                     894\n",
       "Marketing & Communication                Marketing                                           757\n",
       "BFSI, Investments & Trading              Life Insurance                                      750\n",
       "Customer Success, Service & Operations   Operations                                          736\n",
       "Human Resources                          HR Operations                                       736\n",
       "BFSI, Investments & Trading              Banking Operations                                  729\n",
       "Engineering - Software & QA              DevOps                                              651\n",
       "BFSI, Investments & Trading              Lending                                             629\n",
       "Marketing & Communication                Digital Marketing                                   612\n",
       "Project & Program Management             Other Program / Project Management                  605\n",
       "Production, Manufacturing & Engineering  Operations, Maintenance & Support                   588\n",
       "Customer Success, Service & Operations   Customer Success                                    548\n",
       "BFSI, Investments & Trading              General Insurance                                   513\n",
       "Administration & Facilities              Administration                                      459\n",
       "Research & Development                   Engineering & Manufacturing                         428\n",
       "Finance & Accounting                     Finance & Accounting - Other                        362\n",
       "Project & Program Management             Technology / IT                                     352\n",
       "Consulting                               Management Consulting                               347\n",
       "Healthcare & Life Sciences               Nursing                                             304\n",
       "Data Science & Analytics                 Data Science & Analytics - Other                    294\n",
       "Finance & Accounting                     Audit & Control                                     293\n",
       "                                         Treasury                                            289\n",
       "Healthcare & Life Sciences               Health Informatics                                  279\n",
       "Human Resources                          Human Resources - Other                             252\n",
       "Marketing & Communication                Advertising & Creative                              230\n",
       "Healthcare & Life Sciences               Healthcare & Life Sciences - Other                  229\n",
       "Human Resources                          Employee Relations                                  223\n",
       "Research & Development                   Pharmaceutical & Biotechnology                      214\n",
       "Customer Success, Service & Operations   Back Office                                         207\n",
       "Research & Development                   Research & Development - Other                      203\n",
       "Customer Success, Service & Operations   Operations Support                                  202\n",
       "Marketing & Communication                Corporate Communication                             197\n",
       "Production, Manufacturing & Engineering  Production & Manufacturing - Other                  190\n",
       "Consulting                               Other Consulting                                    188\n",
       "Customer Success, Service & Operations   After Sales Service & Repair                        182\n",
       "Healthcare & Life Sciences               Other Hospital Staff                                179\n",
       "Legal & Regulatory                       Legal Operations                                    165\n",
       "Administration & Facilities              Facility Management                                 162\n",
       "Legal & Regulatory                       Legal & Regulatory - Other                          140\n",
       "Food, Beverage & Hospitality             Front Office & Guest Services                       137\n",
       "Customer Success, Service & Operations   Service Delivery                                    131\n",
       "Food, Beverage & Hospitality             Kitchen / F&B Production                            131\n",
       "                                         F&B Service                                         126\n",
       "Healthcare & Life Sciences               Imaging & Diagnostics                               125\n",
       "Legal & Regulatory                       Corporate Affairs                                   118\n",
       "Human Resources                          Compensation & Benefits                             117\n",
       "Production, Manufacturing & Engineering  Management                                          109\n",
       "Project & Program Management             Construction / Manufacturing                        104\n",
       "Finance & Accounting                     Payroll & Transactions                               93\n",
       "Marketing & Communication                Marketing and Communication - Other                  88\n",
       "Food, Beverage & Hospitality             Tourism Services                                     81\n",
       "Marketing & Communication                Market Research & Insights                           66\n",
       "Food, Beverage & Hospitality             Food, Beverage & Hospitality - Other                 64\n",
       "Human Resources                          HR Business Advisory                                 59\n",
       "Food, Beverage & Hospitality             Housekeeping & Laundry                               31\n",
       "                                         Events & Banquet                                     16\n",
       "Human Resources                          Recruitment Marketing & Branding                     12\n",
       "Project & Program Management             Finance                                               9\n",
       "Legal & Regulatory                       Crime / Arbitration                                   3\n",
       "Name: count, dtype: int64"
      ]
     },
     "execution_count": 73,
     "metadata": {},
     "output_type": "execute_result"
    }
   ],
   "source": [
    "df[['Department', 'Role Category']].value_counts()"
   ]
  },
  {
   "cell_type": "code",
   "execution_count": 74,
   "id": "6e7e0ac7-6003-4ff8-acd4-647cf1b139a9",
   "metadata": {},
   "outputs": [],
   "source": [
    "# Step 1: Define the threshold for global grouping\n",
    "threshold = 300\n",
    "\n",
    "# Step 2: Get value counts for Role Categories\n",
    "role_counts = df['Role Category'].value_counts()\n",
    "\n",
    "# Step 3: Identify globally rare Role Categories\n",
    "rare_roles = role_counts[role_counts < threshold].index\n",
    "\n",
    "# Step 4: Replace globally rare Role Categories with \"Others\" initially\n",
    "df['Role Category'] = df['Role Category'].replace(rare_roles, 'Others')\n",
    "\n",
    "# Step 5: Ensure at least one unique Role Category per Department\n",
    "for dept in df['Department'].unique():\n",
    "    # Subset the data for this department\n",
    "    dept_roles = df[df['Department'] == dept]['Role Category']\n",
    "    \n",
    "    # Check if all roles for this department are \"Others\"\n",
    "    if dept_roles.nunique() == 1 and dept_roles.iloc[0] == 'Others':\n",
    "        # Identify the most frequent rare role for this department\n",
    "        original_roles = df[(df['Department'] == dept) & (df['Role Category'].isin(rare_roles))]\n",
    "        if not original_roles.empty:\n",
    "            most_frequent_role = original_roles['Role Category'].mode()[0]\n",
    "            \n",
    "            # Replace \"Others\" with this most frequent role\n",
    "            df.loc[\n",
    "                (df['Department'] == dept) & (df['Role Category'] == 'Others'), \n",
    "                'Role Category'\n",
    "            ] = most_frequent_role\n"
   ]
  },
  {
   "cell_type": "code",
   "execution_count": 75,
   "id": "01e55721-23ff-4b6a-987a-453ed7f66837",
   "metadata": {
    "scrolled": true
   },
   "outputs": [
    {
     "data": {
      "text/plain": [
       "Role Category\n",
       "Software Development                              12080\n",
       "Others                                             8395\n",
       "BD / Pre Sales                                     4344\n",
       "Enterprise & B2B Sales                             2785\n",
       "Accounting & Taxation                              1979\n",
       "Quality Assurance and Testing                      1969\n",
       "Voice / Blended                                    1844\n",
       "DBA / Data warehousing                             1747\n",
       "Business Intelligence & Analytics                  1307\n",
       "Recruitment & Talent Acquisition                   1183\n",
       "Finance                                            1181\n",
       "IT Consulting                                      1013\n",
       "Engineering                                        1000\n",
       "Sales Support & Operations                          970\n",
       "Customer Success, Service & Operations - Other      950\n",
       "Doctor                                              940\n",
       "Data Science & Machine Learning                     894\n",
       "Marketing                                           757\n",
       "Life Insurance                                      750\n",
       "Operations                                          736\n",
       "HR Operations                                       736\n",
       "Banking Operations                                  729\n",
       "DevOps                                              651\n",
       "Lending                                             629\n",
       "Digital Marketing                                   612\n",
       "Other Program / Project Management                  605\n",
       "Operations, Maintenance & Support                   588\n",
       "Customer Success                                    548\n",
       "General Insurance                                   513\n",
       "Administration                                      459\n",
       "Engineering & Manufacturing                         428\n",
       "Finance & Accounting - Other                        362\n",
       "Technology / IT                                     352\n",
       "Management Consulting                               347\n",
       "Nursing                                             304\n",
       "Name: count, dtype: int64"
      ]
     },
     "execution_count": 75,
     "metadata": {},
     "output_type": "execute_result"
    }
   ],
   "source": [
    "df['Role Category'].value_counts()"
   ]
  },
  {
   "cell_type": "code",
   "execution_count": 76,
   "id": "c7131861-ac01-4aee-8842-58218fab5d47",
   "metadata": {},
   "outputs": [
    {
     "data": {
      "text/plain": [
       "35"
      ]
     },
     "execution_count": 76,
     "metadata": {},
     "output_type": "execute_result"
    }
   ],
   "source": [
    "df['Role Category'].value_counts().count()"
   ]
  },
  {
   "cell_type": "code",
   "execution_count": 77,
   "id": "fadadffe-d429-4728-aaf7-4800dd61a1e0",
   "metadata": {},
   "outputs": [
    {
     "data": {
      "text/plain": [
       "Department                               Role Category                                 \n",
       "Engineering - Software & QA              Software Development                              12080\n",
       "Sales & Business Development             BD / Pre Sales                                     4344\n",
       "                                         Enterprise & B2B Sales                             2785\n",
       "Others                                   Others                                             2466\n",
       "Finance & Accounting                     Accounting & Taxation                              1979\n",
       "Engineering - Software & QA              Quality Assurance and Testing                      1969\n",
       "Customer Success, Service & Operations   Voice / Blended                                    1844\n",
       "Engineering - Software & QA              DBA / Data warehousing                             1747\n",
       "Data Science & Analytics                 Business Intelligence & Analytics                  1307\n",
       "Human Resources                          Recruitment & Talent Acquisition                   1183\n",
       "Finance & Accounting                     Finance                                            1172\n",
       "Consulting                               IT Consulting                                      1013\n",
       "Production, Manufacturing & Engineering  Engineering                                        1000\n",
       "Sales & Business Development             Sales Support & Operations                          970\n",
       "Customer Success, Service & Operations   Customer Success, Service & Operations - Other      950\n",
       "Healthcare & Life Sciences               Doctor                                              940\n",
       "Data Science & Analytics                 Data Science & Machine Learning                     894\n",
       "Healthcare & Life Sciences               Others                                              812\n",
       "Marketing & Communication                Marketing                                           757\n",
       "BFSI, Investments & Trading              Life Insurance                                      750\n",
       "Human Resources                          HR Operations                                       736\n",
       "Customer Success, Service & Operations   Operations                                          736\n",
       "BFSI, Investments & Trading              Banking Operations                                  729\n",
       "Customer Success, Service & Operations   Others                                              722\n",
       "Finance & Accounting                     Others                                              675\n",
       "Human Resources                          Others                                              663\n",
       "Engineering - Software & QA              DevOps                                              651\n",
       "BFSI, Investments & Trading              Lending                                             629\n",
       "Marketing & Communication                Digital Marketing                                   612\n",
       "Project & Program Management             Other Program / Project Management                  605\n",
       "Production, Manufacturing & Engineering  Operations, Maintenance & Support                   588\n",
       "Food, Beverage & Hospitality             Others                                              586\n",
       "Marketing & Communication                Others                                              581\n",
       "Customer Success, Service & Operations   Customer Success                                    548\n",
       "BFSI, Investments & Trading              General Insurance                                   513\n",
       "Administration & Facilities              Administration                                      459\n",
       "Research & Development                   Engineering & Manufacturing                         428\n",
       "Legal & Regulatory                       Others                                              426\n",
       "Research & Development                   Others                                              417\n",
       "Finance & Accounting                     Finance & Accounting - Other                        362\n",
       "Project & Program Management             Technology / IT                                     352\n",
       "Consulting                               Management Consulting                               347\n",
       "Healthcare & Life Sciences               Nursing                                             304\n",
       "Production, Manufacturing & Engineering  Others                                              299\n",
       "Data Science & Analytics                 Others                                              294\n",
       "Consulting                               Others                                              188\n",
       "Administration & Facilities              Others                                              162\n",
       "Project & Program Management             Others                                              104\n",
       "                                         Finance                                               9\n",
       "Name: count, dtype: int64"
      ]
     },
     "execution_count": 77,
     "metadata": {},
     "output_type": "execute_result"
    }
   ],
   "source": [
    "df[['Department', 'Role Category']].value_counts()"
   ]
  },
  {
   "cell_type": "code",
   "execution_count": null,
   "id": "f5dfca91-2ce8-4a70-8e95-6b33083a8743",
   "metadata": {},
   "outputs": [],
   "source": []
  }
 ],
 "metadata": {
  "kernelspec": {
   "display_name": "Python 3 (ipykernel)",
   "language": "python",
   "name": "python3"
  },
  "language_info": {
   "codemirror_mode": {
    "name": "ipython",
    "version": 3
   },
   "file_extension": ".py",
   "mimetype": "text/x-python",
   "name": "python",
   "nbconvert_exporter": "python",
   "pygments_lexer": "ipython3",
   "version": "3.12.5"
  }
 },
 "nbformat": 4,
 "nbformat_minor": 5
}

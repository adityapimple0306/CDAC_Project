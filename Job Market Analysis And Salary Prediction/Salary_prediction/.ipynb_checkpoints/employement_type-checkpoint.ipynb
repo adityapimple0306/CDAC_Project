{
 "cells": [
  {
   "cell_type": "code",
   "execution_count": 60,
   "id": "b01f5b03-69cc-4573-9460-8b69fd91dd50",
   "metadata": {},
   "outputs": [],
   "source": [
    "import pandas as pd\n",
    "import numpy as np"
   ]
  },
  {
   "cell_type": "code",
   "execution_count": 61,
   "id": "08d0c705-2b4f-4427-a7eb-c815bedeeec6",
   "metadata": {},
   "outputs": [],
   "source": [
    "df = pd.read_csv(\"data_till_now.csv\")"
   ]
  },
  {
   "cell_type": "code",
   "execution_count": 62,
   "id": "a0405540-6ef7-4532-8645-81ae109df295",
   "metadata": {},
   "outputs": [
    {
     "data": {
      "text/html": [
       "<div>\n",
       "<style scoped>\n",
       "    .dataframe tbody tr th:only-of-type {\n",
       "        vertical-align: middle;\n",
       "    }\n",
       "\n",
       "    .dataframe tbody tr th {\n",
       "        vertical-align: top;\n",
       "    }\n",
       "\n",
       "    .dataframe thead th {\n",
       "        text-align: right;\n",
       "    }\n",
       "</style>\n",
       "<table border=\"1\" class=\"dataframe\">\n",
       "  <thead>\n",
       "    <tr style=\"text-align: right;\">\n",
       "      <th></th>\n",
       "      <th>Company</th>\n",
       "      <th>Experience</th>\n",
       "      <th>UG</th>\n",
       "      <th>Role</th>\n",
       "      <th>Job Description</th>\n",
       "      <th>Location</th>\n",
       "      <th>Employment Type</th>\n",
       "      <th>Title</th>\n",
       "      <th>PG</th>\n",
       "      <th>Salary</th>\n",
       "      <th>Department</th>\n",
       "      <th>Doctorate:</th>\n",
       "      <th>Skills</th>\n",
       "      <th>Industry Type</th>\n",
       "      <th>Role Category</th>\n",
       "    </tr>\n",
       "  </thead>\n",
       "  <tbody>\n",
       "    <tr>\n",
       "      <th>0</th>\n",
       "      <td>Startek</td>\n",
       "      <td>0 - 1 years</td>\n",
       "      <td>Graduation Not Required</td>\n",
       "      <td>Collection Executive / Officer</td>\n",
       "      <td>Role &amp; responsibilities  &gt; Visit customers at ...</td>\n",
       "      <td>Hiring office located in Pune</td>\n",
       "      <td>Full Time, Permanent</td>\n",
       "      <td>Mega Walk In Drive- Field Collection &amp; Recover...</td>\n",
       "      <td>NaN</td>\n",
       "      <td>2.25-2.75 Lacs P.A.</td>\n",
       "      <td>BFSI, Investments &amp; Trading</td>\n",
       "      <td>NaN</td>\n",
       "      <td>Field Collections, Legal Documentation, Field ...</td>\n",
       "      <td>BPO / Call Centre</td>\n",
       "      <td>Lending</td>\n",
       "    </tr>\n",
       "    <tr>\n",
       "      <th>1</th>\n",
       "      <td>Deutsche Bank</td>\n",
       "      <td>0 - 1 years</td>\n",
       "      <td>Any Graduate</td>\n",
       "      <td>Business Correspondent</td>\n",
       "      <td>Job Description:   Job Title - Know Your Cli...</td>\n",
       "      <td>Bengaluru</td>\n",
       "      <td>Full Time, Permanent</td>\n",
       "      <td>Know Your Client, NCT</td>\n",
       "      <td>Any Postgraduate</td>\n",
       "      <td>Not Disclosed</td>\n",
       "      <td>BFSI, Investments &amp; Trading</td>\n",
       "      <td>NaN</td>\n",
       "      <td>standard operating procedures, anti money laun...</td>\n",
       "      <td>Investment Banking / Venture Capital / Private...</td>\n",
       "      <td>Banking Operations</td>\n",
       "    </tr>\n",
       "    <tr>\n",
       "      <th>2</th>\n",
       "      <td>Deutsche Bank</td>\n",
       "      <td>0 - 1 years</td>\n",
       "      <td>Any Graduate</td>\n",
       "      <td>KYC Analyst</td>\n",
       "      <td>Job Description:   Job Title - Know Your Cli...</td>\n",
       "      <td>Bengaluru</td>\n",
       "      <td>Full Time, Permanent</td>\n",
       "      <td>Know Your Client (KYC) Analyst, NCT</td>\n",
       "      <td>Any Postgraduate</td>\n",
       "      <td>Not Disclosed</td>\n",
       "      <td>BFSI, Investments &amp; Trading</td>\n",
       "      <td>NaN</td>\n",
       "      <td>aml, anti money laundering, client onboarding,...</td>\n",
       "      <td>Investment Banking / Venture Capital / Private...</td>\n",
       "      <td>Lending</td>\n",
       "    </tr>\n",
       "    <tr>\n",
       "      <th>3</th>\n",
       "      <td>Goldman Sachs</td>\n",
       "      <td>1 - 4 years</td>\n",
       "      <td>Any Graduate</td>\n",
       "      <td>Banking Operations - Other</td>\n",
       "      <td>YOUR IMPACT  We re looking for a professional ...</td>\n",
       "      <td>Hyderabad</td>\n",
       "      <td>Full Time, Permanent</td>\n",
       "      <td>Global Banking &amp; Markets Operations - Regulato...</td>\n",
       "      <td>Any Postgraduate</td>\n",
       "      <td>Not Disclosed</td>\n",
       "      <td>BFSI, Investments &amp; Trading</td>\n",
       "      <td>NaN</td>\n",
       "      <td>Data analysis, Change management, Corporate ac...</td>\n",
       "      <td>Banking</td>\n",
       "      <td>Banking Operations</td>\n",
       "    </tr>\n",
       "    <tr>\n",
       "      <th>4</th>\n",
       "      <td>Pricewaterhouse Coopers Private Limited</td>\n",
       "      <td>0 - 4 years</td>\n",
       "      <td>Any Graduate</td>\n",
       "      <td>Credit Manager</td>\n",
       "      <td>reports/ memos, oral presentations ); Collabor...</td>\n",
       "      <td>Kolkata, Mumbai, Hyderabad, Bengaluru</td>\n",
       "      <td>Full Time, Permanent</td>\n",
       "      <td>I&amp;F - Credit Factory - Manager</td>\n",
       "      <td>Any Postgraduate</td>\n",
       "      <td>Not Disclosed</td>\n",
       "      <td>BFSI, Investments &amp; Trading</td>\n",
       "      <td>NaN</td>\n",
       "      <td>Retail, Data analysis, Project management, Pro...</td>\n",
       "      <td>Financial Services</td>\n",
       "      <td>Lending</td>\n",
       "    </tr>\n",
       "  </tbody>\n",
       "</table>\n",
       "</div>"
      ],
      "text/plain": [
       "                                   Company   Experience  \\\n",
       "0                                  Startek  0 - 1 years   \n",
       "1                            Deutsche Bank  0 - 1 years   \n",
       "2                            Deutsche Bank  0 - 1 years   \n",
       "3                            Goldman Sachs  1 - 4 years   \n",
       "4  Pricewaterhouse Coopers Private Limited  0 - 4 years   \n",
       "\n",
       "                        UG                            Role  \\\n",
       "0  Graduation Not Required  Collection Executive / Officer   \n",
       "1             Any Graduate          Business Correspondent   \n",
       "2             Any Graduate                     KYC Analyst   \n",
       "3             Any Graduate      Banking Operations - Other   \n",
       "4             Any Graduate                  Credit Manager   \n",
       "\n",
       "                                     Job Description  \\\n",
       "0  Role & responsibilities  > Visit customers at ...   \n",
       "1    Job Description:   Job Title - Know Your Cli...   \n",
       "2    Job Description:   Job Title - Know Your Cli...   \n",
       "3  YOUR IMPACT  We re looking for a professional ...   \n",
       "4  reports/ memos, oral presentations ); Collabor...   \n",
       "\n",
       "                                Location       Employment Type  \\\n",
       "0          Hiring office located in Pune  Full Time, Permanent   \n",
       "1                              Bengaluru  Full Time, Permanent   \n",
       "2                              Bengaluru  Full Time, Permanent   \n",
       "3                              Hyderabad  Full Time, Permanent   \n",
       "4  Kolkata, Mumbai, Hyderabad, Bengaluru  Full Time, Permanent   \n",
       "\n",
       "                                               Title                PG  \\\n",
       "0  Mega Walk In Drive- Field Collection & Recover...               NaN   \n",
       "1                              Know Your Client, NCT  Any Postgraduate   \n",
       "2                Know Your Client (KYC) Analyst, NCT  Any Postgraduate   \n",
       "3  Global Banking & Markets Operations - Regulato...  Any Postgraduate   \n",
       "4                     I&F - Credit Factory - Manager  Any Postgraduate   \n",
       "\n",
       "                Salary                   Department Doctorate:  \\\n",
       "0  2.25-2.75 Lacs P.A.  BFSI, Investments & Trading        NaN   \n",
       "1        Not Disclosed  BFSI, Investments & Trading        NaN   \n",
       "2        Not Disclosed  BFSI, Investments & Trading        NaN   \n",
       "3        Not Disclosed  BFSI, Investments & Trading        NaN   \n",
       "4        Not Disclosed  BFSI, Investments & Trading        NaN   \n",
       "\n",
       "                                              Skills  \\\n",
       "0  Field Collections, Legal Documentation, Field ...   \n",
       "1  standard operating procedures, anti money laun...   \n",
       "2  aml, anti money laundering, client onboarding,...   \n",
       "3  Data analysis, Change management, Corporate ac...   \n",
       "4  Retail, Data analysis, Project management, Pro...   \n",
       "\n",
       "                                       Industry Type       Role Category  \n",
       "0                                  BPO / Call Centre             Lending  \n",
       "1  Investment Banking / Venture Capital / Private...  Banking Operations  \n",
       "2  Investment Banking / Venture Capital / Private...             Lending  \n",
       "3                                            Banking  Banking Operations  \n",
       "4                                 Financial Services             Lending  "
      ]
     },
     "execution_count": 62,
     "metadata": {},
     "output_type": "execute_result"
    }
   ],
   "source": [
    "df.head()"
   ]
  },
  {
   "cell_type": "code",
   "execution_count": 63,
   "id": "d034b326-e983-4c3f-8345-549996fe067e",
   "metadata": {},
   "outputs": [],
   "source": [
    "duplicates = df.duplicated()"
   ]
  },
  {
   "cell_type": "code",
   "execution_count": 64,
   "id": "c92d5e0c-6eea-461e-a602-4116f837333b",
   "metadata": {},
   "outputs": [
    {
     "data": {
      "text/plain": [
       "4053"
      ]
     },
     "execution_count": 64,
     "metadata": {},
     "output_type": "execute_result"
    }
   ],
   "source": [
    "duplicates.sum()"
   ]
  },
  {
   "cell_type": "code",
   "execution_count": 65,
   "id": "a84a523a-b6af-4e74-85cb-439ea6fd2e35",
   "metadata": {},
   "outputs": [
    {
     "data": {
      "text/plain": [
       "1990"
      ]
     },
     "execution_count": 65,
     "metadata": {},
     "output_type": "execute_result"
    }
   ],
   "source": [
    "df['Employment Type'].isna().sum()"
   ]
  },
  {
   "cell_type": "code",
   "execution_count": 66,
   "id": "230aacba-acd7-4b56-99fc-bec4480b22a9",
   "metadata": {},
   "outputs": [],
   "source": [
    "df['Employment Type'] = df['Employment Type'].fillna('NA')"
   ]
  },
  {
   "cell_type": "code",
   "execution_count": 67,
   "id": "69aa04b2-6f9b-431a-838b-f3a4efeaece8",
   "metadata": {},
   "outputs": [
    {
     "name": "stdout",
     "output_type": "stream",
     "text": [
      "<class 'pandas.core.frame.DataFrame'>\n",
      "RangeIndex: 56776 entries, 0 to 56775\n",
      "Data columns (total 15 columns):\n",
      " #   Column           Non-Null Count  Dtype \n",
      "---  ------           --------------  ----- \n",
      " 0   Company          56764 non-null  object\n",
      " 1   Experience       56776 non-null  object\n",
      " 2   UG               52791 non-null  object\n",
      " 3   Role             54805 non-null  object\n",
      " 4   Job Description  56773 non-null  object\n",
      " 5   Location         56776 non-null  object\n",
      " 6   Employment Type  56776 non-null  object\n",
      " 7   Title            56776 non-null  object\n",
      " 8   PG               35667 non-null  object\n",
      " 9   Salary           56776 non-null  object\n",
      " 10  Department       54792 non-null  object\n",
      " 11  Doctorate:       1928 non-null   object\n",
      " 12  Skills           56776 non-null  object\n",
      " 13  Industry Type    54798 non-null  object\n",
      " 14  Role Category    54778 non-null  object\n",
      "dtypes: object(15)\n",
      "memory usage: 6.5+ MB\n"
     ]
    }
   ],
   "source": [
    "df.info()"
   ]
  },
  {
   "cell_type": "code",
   "execution_count": 68,
   "id": "c28d2bc8-fd87-4b8c-ba05-0070bf0cf887",
   "metadata": {},
   "outputs": [
    {
     "data": {
      "text/plain": [
       "Employment Type\n",
       "Full Time, Permanent                54277\n",
       "NA                                   1990\n",
       "Full Time, Temporary/Contractual      381\n",
       "Full Time, Freelance/Homebased         37\n",
       "Part Time, Freelance/Homebased         34\n",
       "Part Time, Temporary/Contractual       29\n",
       "Part Time, Permanent                   28\n",
       "Name: count, dtype: int64"
      ]
     },
     "execution_count": 68,
     "metadata": {},
     "output_type": "execute_result"
    }
   ],
   "source": [
    "df['Employment Type'].value_counts()"
   ]
  },
  {
   "cell_type": "code",
   "execution_count": 69,
   "id": "cd810aa0-5d1b-48ac-8ed6-43c8c67235ac",
   "metadata": {},
   "outputs": [
    {
     "name": "stdout",
     "output_type": "stream",
     "text": [
      "Dataset size after removing 'Part Time' records: 56685\n"
     ]
    }
   ],
   "source": [
    "# Drop rows where 'Employment type' contains 'Part Time'\n",
    "df = df[~df['Employment Type'].str.contains('Part Time', case=False, na=False)]\n",
    "\n",
    "# Verify the new dataset size\n",
    "print(f\"Dataset size after removing 'Part Time' records: {len(df)}\")"
   ]
  },
  {
   "cell_type": "code",
   "execution_count": 70,
   "id": "b1b7f594-b033-4bc5-bd99-d00f605199f3",
   "metadata": {},
   "outputs": [
    {
     "data": {
      "text/plain": [
       "Employment Type\n",
       "Full Time, Permanent                54277\n",
       "NA                                   1990\n",
       "Full Time, Temporary/Contractual      381\n",
       "Full Time, Freelance/Homebased         37\n",
       "Name: count, dtype: int64"
      ]
     },
     "execution_count": 70,
     "metadata": {},
     "output_type": "execute_result"
    }
   ],
   "source": [
    "df['Employment Type'].value_counts()"
   ]
  },
  {
   "cell_type": "code",
   "execution_count": 57,
   "id": "5b08734e-dc5f-4f3f-8d1c-e8373c420f81",
   "metadata": {},
   "outputs": [],
   "source": [
    "df = df.drop(columns=['Employment Type', 'Company', 'Role', 'Job Description', 'Employment Type', 'Title', 'Industry Type'])"
   ]
  },
  {
   "cell_type": "code",
   "execution_count": 58,
   "id": "f3c10868-ece1-45d5-ad3c-749cc2880a24",
   "metadata": {},
   "outputs": [],
   "source": [
    "df.to_csv(\"project_data.csv\", index=False, encoding=\"utf-8\")"
   ]
  },
  {
   "cell_type": "code",
   "execution_count": null,
   "id": "376d2674-54c4-4282-834b-7b4d424105a7",
   "metadata": {},
   "outputs": [],
   "source": []
  }
 ],
 "metadata": {
  "kernelspec": {
   "display_name": "Python 3 (ipykernel)",
   "language": "python",
   "name": "python3"
  },
  "language_info": {
   "codemirror_mode": {
    "name": "ipython",
    "version": 3
   },
   "file_extension": ".py",
   "mimetype": "text/x-python",
   "name": "python",
   "nbconvert_exporter": "python",
   "pygments_lexer": "ipython3",
   "version": "3.12.5"
  }
 },
 "nbformat": 4,
 "nbformat_minor": 5
}

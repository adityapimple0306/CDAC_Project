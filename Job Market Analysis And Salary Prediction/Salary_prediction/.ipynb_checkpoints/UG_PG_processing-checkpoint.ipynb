{
 "cells": [
  {
   "cell_type": "code",
   "execution_count": 1,
   "id": "87528efd-a791-49ef-bc13-3bf515461906",
   "metadata": {},
   "outputs": [],
   "source": [
    "import pandas as pd\n",
    "import numpy as np"
   ]
  },
  {
   "cell_type": "code",
   "execution_count": 2,
   "id": "e1057631-7307-42ad-b5da-a3aed3730513",
   "metadata": {},
   "outputs": [],
   "source": [
    "df = pd.read_csv(\"data_till_now.csv\")"
   ]
  },
  {
   "cell_type": "code",
   "execution_count": 3,
   "id": "83e787d0-b148-40e7-8f28-c12fadc28955",
   "metadata": {},
   "outputs": [],
   "source": [
    "df.drop(['Doctorate:'], axis=1, inplace=True)"
   ]
  },
  {
   "cell_type": "code",
   "execution_count": 4,
   "id": "9f863796-0804-43bb-bfd3-7b68dfccc0cd",
   "metadata": {},
   "outputs": [],
   "source": [
    "df['UG'] = df['UG'].fillna('NA')\n",
    "df['PG'] = df['PG'].fillna('NA')"
   ]
  },
  {
   "cell_type": "code",
   "execution_count": 5,
   "id": "afc86326-259d-40fb-a7ce-90c760c2a5a1",
   "metadata": {},
   "outputs": [
    {
     "data": {
      "text/plain": [
       "1308"
      ]
     },
     "execution_count": 5,
     "metadata": {},
     "output_type": "execute_result"
    }
   ],
   "source": [
    "df['UG'].value_counts().count()"
   ]
  },
  {
   "cell_type": "code",
   "execution_count": 6,
   "id": "5fdce092-0943-4a10-b57c-b60a69ad2d44",
   "metadata": {},
   "outputs": [],
   "source": [
    "pd.set_option('display.max_rows', None)"
   ]
  },
  {
   "cell_type": "code",
   "execution_count": 8,
   "id": "853b4b97-3192-4504-9db9-524e2197482d",
   "metadata": {},
   "outputs": [],
   "source": [
    "# # Convert UG and PG to categorical form\n",
    "# def process_column(column):\n",
    "#     # Split multiple entries if they exist, and sort for uniformity\n",
    "#     column = column.apply(lambda x: ', '.join(sorted(set(str(x).split(',')))) if x != 'NA' else 'NA')\n",
    "#     # Convert to categorical type\n",
    "#     return pd.Categorical(column)"
   ]
  },
  {
   "cell_type": "code",
   "execution_count": 9,
   "id": "f071829e-49c0-4270-97ca-362b69d53378",
   "metadata": {},
   "outputs": [],
   "source": [
    "# df_merged['UG'] = process_column(df_merged['UG'])\n",
    "# df_merged['PG'] = process_column(df_merged['PG'])"
   ]
  },
  {
   "cell_type": "code",
   "execution_count": 18,
   "id": "b069fb37",
   "metadata": {},
   "outputs": [],
   "source": [
    "# df_dummy = df\n",
    "# # Words to check for\n",
    "# invalid_words = [\"graduation not required\"]\n",
    "\n",
    "# # Check if UG or PG contains any of the invalid words\n",
    "# df_dummy['UG_contains_invalid'] = df['UG'].str.lower().apply(lambda x: any(word in x for word in invalid_words))\n",
    "# df_dummy['PG_contains_invalid'] = df['PG'].str.lower().apply(lambda x: any(word in x for word in invalid_words))\n",
    "\n",
    "# # Filter rows where either UG_contains_invalid or PG_contains_invalid is True\n",
    "# ug_or_pg_invalid = df.loc[(df['UG_contains_invalid'] == True) | (df['PG_contains_invalid'] == True)]\n",
    "# print(\"\\nRows with invalid values in UG or PG:\")\n",
    "# print(ug_or_pg_invalid)"
   ]
  },
  {
   "cell_type": "code",
   "execution_count": 30,
   "id": "1a2b16bf-a179-4713-a52a-2dd2f5e82646",
   "metadata": {},
   "outputs": [],
   "source": [
    "df['UG_present'] = df['UG'].str.lower()\n",
    "df['PG_present'] = df['PG'].str.lower()\n",
    "# Conditions to determine if UG/PG columns contain meaningful qualifications\n",
    "# def has_valid_qualification(value):\n",
    "#     # Consider 'graduation not required', 'na', or blank as invalid\n",
    "#     invalid_entries = [\"na\", \"graduation not required\"]\n",
    "#     if any(invalid_entry in value for invalid_entry in invalid_entries):\n",
    "#         return 0\n",
    "#     return 1\n",
    "\n",
    "# # Apply the condition to both UG and PG columns\n",
    "# df['UG_present'] = df['UG_present'].apply(has_valid_qualification)\n",
    "# df['PG_present'] = df['PG_present'].apply(has_valid_qualification)\n",
    "\n",
    "ug = []\n",
    "for entry in df['UG_present']:\n",
    "    if entry == \"na\":\n",
    "        ug.append(0)\n",
    "    elif entry == \"graduation not required\":\n",
    "        ug.append(0)\n",
    "    else:\n",
    "        ug.append(1)\n",
    "\n",
    "pg = []\n",
    "for entry in df['PG_present']:\n",
    "    if entry == \"na\":\n",
    "        pg.append(0)\n",
    "    elif entry == \"post graduation not required\":\n",
    "        pg.append(0)\n",
    "    elif entry == \"any postgraduate, post graduation not required\":\n",
    "        pg.append(0)\n",
    "    elif entry == \"post graduation not required, any postgraduate\":\n",
    "        pg.append(0)\n",
    "    else:\n",
    "        pg.append(1)\n",
    "\n",
    "df['UG_present'] = pd.DataFrame(ug)\n",
    "df['PG_present'] = pd.DataFrame(pg)"
   ]
  },
  {
   "cell_type": "code",
   "execution_count": null,
   "id": "e4017f4b-787b-4743-9845-f40221a14e41",
   "metadata": {},
   "outputs": [],
   "source": []
  }
 ],
 "metadata": {
  "kernelspec": {
   "display_name": "Python 3 (ipykernel)",
   "language": "python",
   "name": "python3"
  },
  "language_info": {
   "codemirror_mode": {
    "name": "ipython",
    "version": 3
   },
   "file_extension": ".py",
   "mimetype": "text/x-python",
   "name": "python",
   "nbconvert_exporter": "python",
   "pygments_lexer": "ipython3",
   "version": "3.12.5"
  }
 },
 "nbformat": 4,
 "nbformat_minor": 5
}

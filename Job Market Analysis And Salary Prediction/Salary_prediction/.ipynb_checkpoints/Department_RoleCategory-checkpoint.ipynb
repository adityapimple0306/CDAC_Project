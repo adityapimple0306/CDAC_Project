{
 "cells": [
  {
   "cell_type": "code",
   "execution_count": 177,
   "id": "42612a72-fd7b-4a52-8a62-027b95a4d1af",
   "metadata": {},
   "outputs": [],
   "source": [
    "import pandas as pd"
   ]
  },
  {
   "cell_type": "code",
   "execution_count": 178,
   "id": "8ff40cdd-bd44-48cc-82ea-16dab85a7694",
   "metadata": {},
   "outputs": [],
   "source": [
    "df = pd.read_csv('project_data.csv')"
   ]
  },
  {
   "cell_type": "code",
   "execution_count": 179,
   "id": "42d78499-5ff6-4089-98dc-f93afcc24b89",
   "metadata": {},
   "outputs": [],
   "source": [
    "df['Department'] = df['Department'].fillna('Others')"
   ]
  },
  {
   "cell_type": "code",
   "execution_count": 180,
   "id": "b3a0470f-fa21-43c0-92aa-190fc9a2ddd0",
   "metadata": {},
   "outputs": [],
   "source": [
    "# Define the threshold for grouping departments\n",
    "dept_threshold = 500\n",
    "\n",
    "# Identify rare departments\n",
    "rare_departments = df['Department'].value_counts()[df['Department'].value_counts() < dept_threshold].index\n",
    "\n",
    "# Replace rare departments with \"Others\"\n",
    "df['Department'] = df['Department'].replace(rare_departments, 'Others')"
   ]
  },
  {
   "cell_type": "code",
   "execution_count": 181,
   "id": "ca9db9b6-cba8-4c1f-9e8a-41b8f4fe0179",
   "metadata": {},
   "outputs": [],
   "source": [
    "pd.set_option('display.max_rows', None)"
   ]
  },
  {
   "cell_type": "code",
   "execution_count": 182,
   "id": "7568bfec-7280-4000-a553-8c2df7141a4e",
   "metadata": {},
   "outputs": [
    {
     "data": {
      "text/plain": [
       "16"
      ]
     },
     "execution_count": 182,
     "metadata": {},
     "output_type": "execute_result"
    }
   ],
   "source": [
    "df['Department'].value_counts().count()"
   ]
  },
  {
   "cell_type": "code",
   "execution_count": 205,
   "id": "4121b514-57cd-465d-9177-4cb04d9e9490",
   "metadata": {},
   "outputs": [
    {
     "data": {
      "text/plain": [
       "Department\n",
       "Sales & Business Development               4612\n",
       "Customer Success, Service & Operations     2921\n",
       "Others                                     1902\n",
       "Engineering - Software & QA                1892\n",
       "Finance & Accounting                       1304\n",
       "BFSI, Investments & Trading                 909\n",
       "Human Resources                             895\n",
       "Healthcare & Life Sciences                  790\n",
       "Marketing & Communication                   697\n",
       "Production, Manufacturing & Engineering     575\n",
       "Food, Beverage & Hospitality                392\n",
       "Research & Development                      337\n",
       "Data Science & Analytics                    249\n",
       "Administration & Facilities                 247\n",
       "Project & Program Management                194\n",
       "Consulting                                  182\n",
       "Name: count, dtype: int64"
      ]
     },
     "execution_count": 205,
     "metadata": {},
     "output_type": "execute_result"
    }
   ],
   "source": [
    "df['Department'].value_counts()"
   ]
  },
  {
   "cell_type": "code",
   "execution_count": 184,
   "id": "39a38251-8159-4c0e-9190-6f430d59c9c5",
   "metadata": {},
   "outputs": [],
   "source": [
    "df['Role Category'] = df['Role Category'].fillna('Others')"
   ]
  },
  {
   "cell_type": "code",
   "execution_count": 185,
   "id": "6337f5a6-6ec4-4da4-a84d-90fbb8421c70",
   "metadata": {},
   "outputs": [],
   "source": [
    "# Define the threshold for grouping role categories\n",
    "role_threshold = 300\n",
    "\n",
    "# Identify rare role categories\n",
    "rare_roles = df['Role Category'].value_counts()[df['Role Category'].value_counts() < role_threshold].index\n",
    "\n",
    "# Replace rare role categories with \"Others\"\n",
    "df['Role Category'] = df['Role Category'].replace(rare_roles, 'Others')"
   ]
  },
  {
   "cell_type": "code",
   "execution_count": 186,
   "id": "f182c86f-04d9-4606-9d33-ca875977a380",
   "metadata": {},
   "outputs": [
    {
     "data": {
      "text/plain": [
       "35"
      ]
     },
     "execution_count": 186,
     "metadata": {},
     "output_type": "execute_result"
    }
   ],
   "source": [
    "df['Role Category'].value_counts().count()"
   ]
  },
  {
   "cell_type": "code",
   "execution_count": 206,
   "id": "84993cd9-92f9-4899-b199-9abcc4051d71",
   "metadata": {
    "scrolled": true
   },
   "outputs": [
    {
     "data": {
      "text/plain": [
       "Role Category\n",
       "BD / Pre Sales                                      2841\n",
       "Others - Others                                     1902\n",
       "Software Development                                1511\n",
       "Voice / Blended                                     1406\n",
       "Enterprise & B2B Sales                              1311\n",
       "Customer Success, Service & Operations - Others      902\n",
       "Accounting & Taxation                                872\n",
       "Recruitment & Talent Acquisition                     476\n",
       "Doctor                                               474\n",
       "Sales Support & Operations                           459\n",
       "Food, Beverage & Hospitality - Others                392\n",
       "Customer Success                                     331\n",
       "Life Insurance                                       301\n",
       "Operations                                           282\n",
       "Marketing                                            279\n",
       "Banking Operations                                   256\n",
       "Digital Marketing                                    242\n",
       "Engineering                                          235\n",
       "HR Operations                                        234\n",
       "Healthcare & Life Sciences - Others                  228\n",
       "Finance & Accounting - Others                        221\n",
       "Finance                                              212\n",
       "Operations, Maintenance & Support                    211\n",
       "Quality Assurance and Testing                        197\n",
       "Administration                                       187\n",
       "Human Resources - Others                             185\n",
       "General Insurance                                    179\n",
       "Engineering & Manufacturing                          177\n",
       "Marketing & Communication - Others                   176\n",
       "Lending                                              173\n",
       "Research & Development - Others                      160\n",
       "IT Consulting                                        134\n",
       "Project & Program Management - Others                130\n",
       "Production, Manufacturing & Engineering - Others     129\n",
       "Business Intelligence & Analytics                    126\n",
       "DBA / Data warehousing                                97\n",
       "Others                                                92\n",
       "Nursing                                               88\n",
       "DevOps                                                85\n",
       "Data Science & Machine Learning                       81\n",
       "Technology / IT                                       63\n",
       "Data Science & Analytics - Others                     42\n",
       "Management Consulting                                 19\n",
       "Name: count, dtype: int64"
      ]
     },
     "execution_count": 206,
     "metadata": {},
     "output_type": "execute_result"
    }
   ],
   "source": [
    "df['Role Category'].value_counts()"
   ]
  },
  {
   "cell_type": "code",
   "execution_count": 188,
   "id": "10d747a6-bf80-4df7-afea-8a33b9da7934",
   "metadata": {},
   "outputs": [],
   "source": [
    "# Standardize \"Other\" role categories within the same department\n",
    "df.loc[df['Role Category'].str.contains('Other', case=False, na=False), 'Role Category'] = 'Others'"
   ]
  },
  {
   "cell_type": "code",
   "execution_count": 189,
   "id": "eb46f562-02a1-421e-bcc9-ecfe7b359f6c",
   "metadata": {},
   "outputs": [],
   "source": [
    "# Ensure at least one unique role category per department\n",
    "for dept in df['Department'].unique():\n",
    "    # Subset data for the current department\n",
    "    dept_roles = df[df['Department'] == dept]['Role Category']\n",
    "    \n",
    "    # Check if all roles for this department are \"Others\"\n",
    "    if dept_roles.nunique() == 1 and dept_roles.iloc[0] == 'Others':\n",
    "        # Find the most frequent rare role for this department\n",
    "        original_roles = df[(df['Department'] == dept) & (df['Role Category'].isin(rare_roles))]\n",
    "        if not original_roles.empty:\n",
    "            most_frequent_role = original_roles['Role Category'].mode()[0]\n",
    "\n",
    "            # Replace \"Others\" with the most frequent role\n",
    "            df.loc[\n",
    "                (df['Department'] == dept) & (df['Role Category'] == 'Others'),\n",
    "                'Role Category'\n",
    "            ] = most_frequent_role\n"
   ]
  },
  {
   "cell_type": "code",
   "execution_count": 190,
   "id": "000cff3f-ae6e-488d-ad76-a9690a83c1df",
   "metadata": {},
   "outputs": [
    {
     "data": {
      "text/plain": [
       "32"
      ]
     },
     "execution_count": 190,
     "metadata": {},
     "output_type": "execute_result"
    }
   ],
   "source": [
    "df['Role Category'].value_counts().count()"
   ]
  },
  {
   "cell_type": "code",
   "execution_count": 191,
   "id": "ca2b5d71-50aa-4ffb-ab7c-a9337b46a036",
   "metadata": {},
   "outputs": [],
   "source": [
    "# Append department name to \"Others\" role for better specificity\n",
    "df.loc[df['Role Category'] == 'Others', 'Role Category'] = df['Department'] + \" - Others\""
   ]
  },
  {
   "cell_type": "code",
   "execution_count": 192,
   "id": "5b2e9cba-5ace-4f89-89af-a3217d718fd9",
   "metadata": {
    "scrolled": true
   },
   "outputs": [
    {
     "data": {
      "text/plain": [
       "Role Category\n",
       "Software Development                                12080\n",
       "Others - Others                                      4860\n",
       "BD / Pre Sales                                       4344\n",
       "Enterprise & B2B Sales                               2785\n",
       "Accounting & Taxation                                1979\n",
       "Quality Assurance and Testing                        1969\n",
       "Voice / Blended                                      1844\n",
       "DBA / Data warehousing                               1747\n",
       "Customer Success, Service & Operations - Others      1677\n",
       "Business Intelligence & Analytics                    1307\n",
       "Finance                                              1197\n",
       "Recruitment & Talent Acquisition                     1183\n",
       "Finance & Accounting - Others                        1038\n",
       "IT Consulting                                        1013\n",
       "Engineering                                          1000\n",
       "Sales Support & Operations                            970\n",
       "Doctor                                                940\n",
       "Data Science & Machine Learning                       894\n",
       "Healthcare & Life Sciences - Others                   812\n",
       "Marketing                                             757\n",
       "Life Insurance                                        750\n",
       "Operations                                            736\n",
       "HR Operations                                         736\n",
       "Banking Operations                                    729\n",
       "Project & Program Management - Others                 709\n",
       "Human Resources - Others                              663\n",
       "DevOps                                                651\n",
       "Lending                                               629\n",
       "Digital Marketing                                     612\n",
       "Operations, Maintenance & Support                     588\n",
       "Food, Beverage & Hospitality - Others                 586\n",
       "Marketing & Communication - Others                    582\n",
       "Customer Success                                      548\n",
       "General Insurance                                     513\n",
       "Administration                                        459\n",
       "Engineering & Manufacturing                           428\n",
       "Research & Development - Others                       419\n",
       "Technology / IT                                       352\n",
       "Management Consulting                                 347\n",
       "Nursing                                               304\n",
       "Production, Manufacturing & Engineering - Others      299\n",
       "Data Science & Analytics - Others                     294\n",
       "Consulting - Others                                   188\n",
       "Administration & Facilities - Others                  162\n",
       "Engineering - Software & QA - Others                    2\n",
       "Sales & Business Development - Others                   2\n",
       "BFSI, Investments & Trading - Others                    1\n",
       "Name: count, dtype: int64"
      ]
     },
     "execution_count": 192,
     "metadata": {},
     "output_type": "execute_result"
    }
   ],
   "source": [
    "df['Role Category'].value_counts()"
   ]
  },
  {
   "cell_type": "code",
   "execution_count": 194,
   "id": "fd46e940-c488-41ee-83a3-0b3d327ca5f7",
   "metadata": {},
   "outputs": [],
   "source": [
    "# Define the threshold for grouping role categories\n",
    "role_threshold = 200\n",
    "\n",
    "# Identify rare role categories\n",
    "rare_roles = df['Role Category'].value_counts()[df['Role Category'].value_counts() < role_threshold].index\n",
    "\n",
    "# Replace rare role categories with \"Others\"\n",
    "df['Role Category'] = df['Role Category'].replace(rare_roles, 'Others')"
   ]
  },
  {
   "cell_type": "code",
   "execution_count": 195,
   "id": "faa44f78-3300-4a4d-ba0d-559c9ddcdd8e",
   "metadata": {},
   "outputs": [],
   "source": [
    "# Correct \"Others - Finance\" anomaly\n",
    "df.loc[(df['Department'] == 'Others') & (df['Role Category'] == 'Finance'), 'Department'] = 'Finance & Accounting'"
   ]
  },
  {
   "cell_type": "code",
   "execution_count": 196,
   "id": "c374c373-fe9a-4a59-9bba-d840009e1ba1",
   "metadata": {},
   "outputs": [],
   "source": [
    "# # Append department name to \"Others\" role for better specificity\n",
    "# df.loc[df['Role Category'] == 'Others', 'Role Category'] = df['Department'] + \" - Others\""
   ]
  },
  {
   "cell_type": "code",
   "execution_count": 197,
   "id": "3fadc5ad-a8b0-4dda-b00c-7526ff92e4b4",
   "metadata": {},
   "outputs": [
    {
     "data": {
      "text/plain": [
       "43"
      ]
     },
     "execution_count": 197,
     "metadata": {},
     "output_type": "execute_result"
    }
   ],
   "source": [
    "df['Role Category'].value_counts().count()"
   ]
  },
  {
   "cell_type": "code",
   "execution_count": 198,
   "id": "3726b4b6-cfd4-4018-9fb4-4c04941f325c",
   "metadata": {
    "scrolled": true
   },
   "outputs": [
    {
     "data": {
      "text/plain": [
       "Role Category\n",
       "Software Development                                12080\n",
       "Others - Others                                      4860\n",
       "BD / Pre Sales                                       4344\n",
       "Enterprise & B2B Sales                               2785\n",
       "Accounting & Taxation                                1979\n",
       "Quality Assurance and Testing                        1969\n",
       "Voice / Blended                                      1844\n",
       "DBA / Data warehousing                               1747\n",
       "Customer Success, Service & Operations - Others      1677\n",
       "Business Intelligence & Analytics                    1307\n",
       "Finance                                              1197\n",
       "Recruitment & Talent Acquisition                     1183\n",
       "Finance & Accounting - Others                        1038\n",
       "IT Consulting                                        1013\n",
       "Engineering                                          1000\n",
       "Sales Support & Operations                            970\n",
       "Doctor                                                940\n",
       "Data Science & Machine Learning                       894\n",
       "Healthcare & Life Sciences - Others                   812\n",
       "Marketing                                             757\n",
       "Life Insurance                                        750\n",
       "HR Operations                                         736\n",
       "Operations                                            736\n",
       "Banking Operations                                    729\n",
       "Project & Program Management - Others                 709\n",
       "Human Resources - Others                              663\n",
       "DevOps                                                651\n",
       "Lending                                               629\n",
       "Digital Marketing                                     612\n",
       "Operations, Maintenance & Support                     588\n",
       "Food, Beverage & Hospitality - Others                 586\n",
       "Marketing & Communication - Others                    582\n",
       "Customer Success                                      548\n",
       "General Insurance                                     513\n",
       "Administration                                        459\n",
       "Engineering & Manufacturing                           428\n",
       "Research & Development - Others                       419\n",
       "Others                                                355\n",
       "Technology / IT                                       352\n",
       "Management Consulting                                 347\n",
       "Nursing                                               304\n",
       "Production, Manufacturing & Engineering - Others      299\n",
       "Data Science & Analytics - Others                     294\n",
       "Name: count, dtype: int64"
      ]
     },
     "execution_count": 198,
     "metadata": {},
     "output_type": "execute_result"
    }
   ],
   "source": [
    "df['Role Category'].value_counts()"
   ]
  },
  {
   "cell_type": "code",
   "execution_count": 199,
   "id": "2f070b20-1568-47f1-9a62-6637dcc20c29",
   "metadata": {},
   "outputs": [
    {
     "data": {
      "text/plain": [
       "16"
      ]
     },
     "execution_count": 199,
     "metadata": {},
     "output_type": "execute_result"
    }
   ],
   "source": [
    "df['Department'].value_counts().count()"
   ]
  },
  {
   "cell_type": "code",
   "execution_count": 200,
   "id": "e0ff7a5c-5293-40c3-af02-406e11bd2daf",
   "metadata": {},
   "outputs": [
    {
     "data": {
      "text/plain": [
       "Department\n",
       "Engineering - Software & QA                16449\n",
       "Sales & Business Development                8101\n",
       "Others                                      4860\n",
       "Customer Success, Service & Operations      4805\n",
       "Finance & Accounting                        4205\n",
       "BFSI, Investments & Trading                 2622\n",
       "Human Resources                             2582\n",
       "Data Science & Analytics                    2495\n",
       "Healthcare & Life Sciences                  2056\n",
       "Marketing & Communication                   1951\n",
       "Production, Manufacturing & Engineering     1887\n",
       "Consulting                                  1548\n",
       "Project & Program Management                1070\n",
       "Research & Development                       847\n",
       "Administration & Facilities                  621\n",
       "Food, Beverage & Hospitality                 586\n",
       "Name: count, dtype: int64"
      ]
     },
     "execution_count": 200,
     "metadata": {},
     "output_type": "execute_result"
    }
   ],
   "source": [
    "df['Department'].value_counts()"
   ]
  },
  {
   "cell_type": "code",
   "execution_count": 201,
   "id": "a6d6b480-78c5-4639-b833-10d2405593cb",
   "metadata": {
    "scrolled": true
   },
   "outputs": [
    {
     "data": {
      "text/plain": [
       "Department_Role\n",
       "Engineering - Software & QA - Software Development                                            12080\n",
       "Others - Others - Others                                                                       4860\n",
       "Sales & Business Development - BD / Pre Sales                                                  4344\n",
       "Sales & Business Development - Enterprise & B2B Sales                                          2785\n",
       "Finance & Accounting - Accounting & Taxation                                                   1979\n",
       "Engineering - Software & QA - Quality Assurance and Testing                                    1969\n",
       "Customer Success, Service & Operations - Voice / Blended                                       1844\n",
       "Engineering - Software & QA - DBA / Data warehousing                                           1747\n",
       "Customer Success, Service & Operations - Customer Success, Service & Operations - Others       1677\n",
       "Data Science & Analytics - Business Intelligence & Analytics                                   1307\n",
       "Finance & Accounting - Finance                                                                 1188\n",
       "Human Resources - Recruitment & Talent Acquisition                                             1183\n",
       "Finance & Accounting - Finance & Accounting - Others                                           1038\n",
       "Consulting - IT Consulting                                                                     1013\n",
       "Production, Manufacturing & Engineering - Engineering                                          1000\n",
       "Sales & Business Development - Sales Support & Operations                                       970\n",
       "Healthcare & Life Sciences - Doctor                                                             940\n",
       "Data Science & Analytics - Data Science & Machine Learning                                      894\n",
       "Healthcare & Life Sciences - Healthcare & Life Sciences - Others                                812\n",
       "Marketing & Communication - Marketing                                                           757\n",
       "BFSI, Investments & Trading - Life Insurance                                                    750\n",
       "Customer Success, Service & Operations - Operations                                             736\n",
       "Human Resources - HR Operations                                                                 736\n",
       "BFSI, Investments & Trading - Banking Operations                                                729\n",
       "Project & Program Management - Project & Program Management - Others                            709\n",
       "Human Resources - Human Resources - Others                                                      663\n",
       "Engineering - Software & QA - DevOps                                                            651\n",
       "BFSI, Investments & Trading - Lending                                                           629\n",
       "Marketing & Communication - Digital Marketing                                                   612\n",
       "Production, Manufacturing & Engineering - Operations, Maintenance & Support                     588\n",
       "Food, Beverage & Hospitality - Food, Beverage & Hospitality - Others                            586\n",
       "Marketing & Communication - Marketing & Communication - Others                                  582\n",
       "Customer Success, Service & Operations - Customer Success                                       548\n",
       "BFSI, Investments & Trading - General Insurance                                                 513\n",
       "Administration & Facilities - Administration                                                    459\n",
       "Research & Development - Engineering & Manufacturing                                            428\n",
       "Research & Development - Research & Development - Others                                        419\n",
       "Project & Program Management - Technology / IT                                                  352\n",
       "Consulting - Management Consulting                                                              347\n",
       "Healthcare & Life Sciences - Nursing                                                            304\n",
       "Production, Manufacturing & Engineering - Production, Manufacturing & Engineering - Others      299\n",
       "Data Science & Analytics - Data Science & Analytics - Others                                    294\n",
       "Consulting - Others                                                                             188\n",
       "Administration & Facilities - Others                                                            162\n",
       "Project & Program Management - Finance                                                            9\n",
       "Engineering - Software & QA - Others                                                              2\n",
       "Sales & Business Development - Others                                                             2\n",
       "BFSI, Investments & Trading - Others                                                              1\n",
       "Name: count, dtype: int64"
      ]
     },
     "execution_count": 201,
     "metadata": {},
     "output_type": "execute_result"
    }
   ],
   "source": [
    "# Create a combined feature for Department and Role Category\n",
    "df['Department_Role'] = df['Department'] + \" - \" + df['Role Category']\n",
    "df['Department_Role'].value_counts()"
   ]
  },
  {
   "cell_type": "code",
   "execution_count": 207,
   "id": "fd184de7-dc3d-4dd7-b58a-61255ef1b921",
   "metadata": {
    "scrolled": true
   },
   "outputs": [
    {
     "data": {
      "text/plain": [
       "Department_Role\n",
       "Sales & Business Development - BD / Pre Sales                                                 2841\n",
       "Others - Others - Others                                                                      1902\n",
       "Engineering - Software & QA - Software Development                                            1511\n",
       "Customer Success, Service & Operations - Voice / Blended                                      1406\n",
       "Sales & Business Development - Enterprise & B2B Sales                                         1311\n",
       "Customer Success, Service & Operations - Customer Success, Service & Operations - Others       902\n",
       "Finance & Accounting - Accounting & Taxation                                                   872\n",
       "Human Resources - Recruitment & Talent Acquisition                                             476\n",
       "Healthcare & Life Sciences - Doctor                                                            474\n",
       "Sales & Business Development - Sales Support & Operations                                      459\n",
       "Food, Beverage & Hospitality - Food, Beverage & Hospitality - Others                           392\n",
       "Customer Success, Service & Operations - Customer Success                                      331\n",
       "BFSI, Investments & Trading - Life Insurance                                                   301\n",
       "Customer Success, Service & Operations - Operations                                            282\n",
       "Marketing & Communication - Marketing                                                          279\n",
       "BFSI, Investments & Trading - Banking Operations                                               256\n",
       "Marketing & Communication - Digital Marketing                                                  242\n",
       "Production, Manufacturing & Engineering - Engineering                                          235\n",
       "Human Resources - HR Operations                                                                234\n",
       "Healthcare & Life Sciences - Healthcare & Life Sciences - Others                               228\n",
       "Finance & Accounting - Finance & Accounting - Others                                           221\n",
       "Production, Manufacturing & Engineering - Operations, Maintenance & Support                    211\n",
       "Finance & Accounting - Finance                                                                 211\n",
       "Engineering - Software & QA - Quality Assurance and Testing                                    197\n",
       "Administration & Facilities - Administration                                                   187\n",
       "Human Resources - Human Resources - Others                                                     185\n",
       "BFSI, Investments & Trading - General Insurance                                                179\n",
       "Research & Development - Engineering & Manufacturing                                           177\n",
       "Marketing & Communication - Marketing & Communication - Others                                 176\n",
       "BFSI, Investments & Trading - Lending                                                          173\n",
       "Research & Development - Research & Development - Others                                       160\n",
       "Consulting - IT Consulting                                                                     134\n",
       "Project & Program Management - Project & Program Management - Others                           130\n",
       "Production, Manufacturing & Engineering - Production, Manufacturing & Engineering - Others     129\n",
       "Data Science & Analytics - Business Intelligence & Analytics                                   126\n",
       "Engineering - Software & QA - DBA / Data warehousing                                            97\n",
       "Healthcare & Life Sciences - Nursing                                                            88\n",
       "Engineering - Software & QA - DevOps                                                            85\n",
       "Data Science & Analytics - Data Science & Machine Learning                                      81\n",
       "Project & Program Management - Technology / IT                                                  63\n",
       "Administration & Facilities - Others                                                            60\n",
       "Data Science & Analytics - Data Science & Analytics - Others                                    42\n",
       "Consulting - Others                                                                             29\n",
       "Consulting - Management Consulting                                                              19\n",
       "Engineering - Software & QA - Others                                                             2\n",
       "Project & Program Management - Finance                                                           1\n",
       "Sales & Business Development - Others                                                            1\n",
       "Name: count, dtype: int64"
      ]
     },
     "execution_count": 207,
     "metadata": {},
     "output_type": "execute_result"
    }
   ],
   "source": [
    "df['Department_Role'].value_counts()"
   ]
  },
  {
   "cell_type": "code",
   "execution_count": null,
   "id": "6b9728bb-ce69-4277-b5d9-0204dee6a363",
   "metadata": {},
   "outputs": [],
   "source": []
  }
 ],
 "metadata": {
  "kernelspec": {
   "display_name": "Python 3 (ipykernel)",
   "language": "python",
   "name": "python3"
  },
  "language_info": {
   "codemirror_mode": {
    "name": "ipython",
    "version": 3
   },
   "file_extension": ".py",
   "mimetype": "text/x-python",
   "name": "python",
   "nbconvert_exporter": "python",
   "pygments_lexer": "ipython3",
   "version": "3.12.5"
  }
 },
 "nbformat": 4,
 "nbformat_minor": 5
}
